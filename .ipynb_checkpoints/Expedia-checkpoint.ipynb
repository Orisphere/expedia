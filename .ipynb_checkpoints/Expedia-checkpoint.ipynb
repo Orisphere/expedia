{
 "cells": [
  {
   "cell_type": "raw",
   "metadata": {},
   "source": [
    "Load test and destination files."
   ]
  },
  {
   "cell_type": "code",
   "execution_count": 113,
   "metadata": {
    "collapsed": false,
    "scrolled": true
   },
   "outputs": [
    {
     "data": {
      "text/plain": [
       "\"test = []\\n\\nfor chunk in  pd.read_csv('test.csv', delimiter=',', chunksize=10**6):\\n        test.append(chunk)\\ntest = pd.concat(test)\\n\""
      ]
     },
     "execution_count": 113,
     "metadata": {},
     "output_type": "execute_result"
    }
   ],
   "source": [
    "import pandas as pd\n",
    "\n",
    "#dest = pd.read_csv('destinations.csv', delimiter=',')\n",
    "'''test = []\n",
    "\n",
    "for chunk in  pd.read_csv('test.csv', delimiter=',', chunksize=10**6):\n",
    "        test.append(chunk)\n",
    "test = pd.concat(test)\n",
    "'''"
   ]
  },
  {
   "cell_type": "raw",
   "metadata": {},
   "source": [
    "Load a sample of the training data."
   ]
  },
  {
   "cell_type": "code",
   "execution_count": 115,
   "metadata": {
    "collapsed": false,
    "scrolled": true
   },
   "outputs": [
    {
     "name": "stdout",
     "output_type": "stream",
     "text": [
      "             date_time  site_name  posa_continent  user_location_country  \\\n",
      "0  2014-08-11 08:22:12          2               3                     66   \n",
      "1  2014-08-11 08:24:33          2               3                     66   \n",
      "2  2014-08-09 18:05:16          2               3                     66   \n",
      "3  2014-08-09 18:08:18          2               3                     66   \n",
      "4  2014-08-09 18:13:12          2               3                     66   \n",
      "\n",
      "   user_location_region  user_location_city  orig_destination_distance  \\\n",
      "0                   348               48862                  2234.2641   \n",
      "1                   348               48862                  2234.2641   \n",
      "2                   442               35390                   913.1932   \n",
      "3                   442               35390                   913.6259   \n",
      "4                   442               35390                   911.5142   \n",
      "\n",
      "   user_id  is_mobile  is_package      ...        srch_children_cnt  \\\n",
      "0       12          0           1      ...                        0   \n",
      "1       12          0           0      ...                        0   \n",
      "2       93          0           0      ...                        0   \n",
      "3       93          0           0      ...                        0   \n",
      "4       93          0           0      ...                        0   \n",
      "\n",
      "  srch_rm_cnt srch_destination_id  srch_destination_type_id  is_booking  cnt  \\\n",
      "0           1                8250                         1           1    1   \n",
      "1           1                8250                         1           0    1   \n",
      "2           1               14984                         1           0    1   \n",
      "3           1               14984                         1           0    1   \n",
      "4           1               14984                         1           0    1   \n",
      "\n",
      "   hotel_continent  hotel_country  hotel_market  hotel_cluster  \n",
      "0                2             50           628              1  \n",
      "1                2             50           628              1  \n",
      "2                2             50          1457             80  \n",
      "3                2             50          1457             21  \n",
      "4                2             50          1457             92  \n",
      "\n",
      "[5 rows x 24 columns]\n"
     ]
    }
   ],
   "source": [
    "chunksize = 10**5\n",
    "\n",
    "skiprows = [i for i in range(10**5) if i%10==1]\n",
    "train = pd.read_csv('train.csv', delimiter=',', skiprows=skiprows, chunksize=chunksize)\n",
    "\n",
    "\n",
    "features = None\n",
    "target = None\n",
    "\n",
    "for t in train:\n",
    "        print(t.head())\n",
    "        target = t['hotel_cluster']\n",
    "        features = t.drop(['hotel_cluster'], axis=1)\n",
    "        break\n"
   ]
  },
  {
   "cell_type": "raw",
   "metadata": {},
   "source": [
    "Pre-process features."
   ]
  },
  {
   "cell_type": "code",
   "execution_count": 116,
   "metadata": {
    "collapsed": false
   },
   "outputs": [],
   "source": [
    "#TODO: Handle dt errors\n",
    "#Convert to date_time\n",
    "features['date_time'] = pd.to_datetime(features['date_time'], errors='coerce')\n",
    "features['srch_ci'] = pd.to_datetime(features['srch_ci'], errors='coerce')\n",
    "features['srch_co'] = pd.to_datetime(features['srch_co'], errors='coerce')\n",
    "\n",
    "#Add new features\n",
    "features['length_of_stay'] = features['srch_co']-features['srch_ci']\n",
    "features['length_of_stay'] = features['length_of_stay'].dt.days\n",
    "features['season'] = features['srch_ci'].dt.month\n",
    "features['year'] = features['date_time'].dt.year\n",
    "features['month'] = features['date_time'].dt.month\n",
    "features['day'] = features['date_time'].dt.day\n",
    "features['hour'] = features['date_time'].dt.hour\n",
    "features['is_couple'] = features['srch_adults_cnt'].map(lambda x: x==2) & features['srch_children_cnt'].map(lambda x: x==0) & features['srch_rm_cnt'].map(lambda x: x==1)\n",
    "\n",
    "\n",
    "#Drop old features and remove NaN\n",
    "features.drop(['date_time', 'srch_ci', 'srch_co'], axis=1, inplace=True)\n",
    "features.fillna(-1, inplace=True)\n",
    "\n"
   ]
  },
  {
   "cell_type": "code",
   "execution_count": 117,
   "metadata": {
    "collapsed": false
   },
   "outputs": [
    {
     "name": "stdout",
     "output_type": "stream",
     "text": [
      "   site_name  posa_continent  user_location_country  user_location_region  \\\n",
      "0          2               3                     66                   348   \n",
      "1          2               3                     66                   348   \n",
      "2          2               3                     66                   442   \n",
      "3          2               3                     66                   442   \n",
      "4          2               3                     66                   442   \n",
      "\n",
      "   user_location_city  orig_destination_distance  user_id  is_mobile  \\\n",
      "0               48862                  2234.2641       12          0   \n",
      "1               48862                  2234.2641       12          0   \n",
      "2               35390                   913.1932       93          0   \n",
      "3               35390                   913.6259       93          0   \n",
      "4               35390                   911.5142       93          0   \n",
      "\n",
      "   is_package  channel    ...      hotel_continent  hotel_country  \\\n",
      "0           1        9    ...                    2             50   \n",
      "1           0        9    ...                    2             50   \n",
      "2           0        3    ...                    2             50   \n",
      "3           0        3    ...                    2             50   \n",
      "4           0        3    ...                    2             50   \n",
      "\n",
      "   hotel_market  length_of_stay  season  year  month  day  hour  is_couple  \n",
      "0           628               4       8  2014      8   11     8       True  \n",
      "1           628               4       8  2014      8   11     8       True  \n",
      "2          1457               5      11  2014      8    9    18       True  \n",
      "3          1457               5      11  2014      8    9    18       True  \n",
      "4          1457               5      11  2014      8    9    18       True  \n",
      "\n",
      "[5 rows x 27 columns]\n",
      "[[  2.00000000e+00   3.00000000e+00   6.60000000e+01 ...,   2.01400000e+03\n",
      "    8.00000000e+00   1.00000000e+00]\n",
      " [  2.00000000e+00   3.00000000e+00   6.60000000e+01 ...,   2.01400000e+03\n",
      "    8.00000000e+00   1.00000000e+00]\n",
      " [  2.00000000e+00   3.00000000e+00   6.60000000e+01 ...,   2.01400000e+03\n",
      "    8.00000000e+00   1.00000000e+00]\n",
      " ..., \n",
      " [  2.00000000e+00   3.00000000e+00   6.60000000e+01 ...,   2.01400000e+03\n",
      "    1.00000000e+01   1.00000000e+00]\n",
      " [  2.00000000e+00   3.00000000e+00   6.60000000e+01 ...,   2.01400000e+03\n",
      "    1.00000000e+01   1.00000000e+00]\n",
      " [  2.00000000e+00   3.00000000e+00   6.60000000e+01 ...,   2.01400000e+03\n",
      "    1.00000000e+01   1.00000000e+00]]\n",
      "[  85.01332963   86.18628669    8.75134298   13.02192217    5.93075931\n",
      "   57.61582717    4.71754154    4.45494262  118.04312442    4.91504392\n",
      "    8.52619543   16.2359504     4.89442189   30.35480075   25.65156685\n",
      "   13.15997184    7.78359929  479.57053923  167.46587663   52.4816526\n",
      "   85.3792947     6.88867349    7.09434161    8.04589572    2.25077204\n",
      "    3.02439442   15.95073486]\n"
     ]
    }
   ],
   "source": [
    "from sklearn.feature_selection import SelectKBest\n",
    "print(features.head())\n",
    "\n",
    "sel = SelectKBest(k=25)\n",
    "sel.fit(features, target)\n",
    "reduced_features = sel.transform(features)\n",
    "\n",
    "print(reduced_features)\n",
    "print(sel.scores_)"
   ]
  },
  {
   "cell_type": "code",
   "execution_count": 118,
   "metadata": {
    "collapsed": false
   },
   "outputs": [
    {
     "name": "stdout",
     "output_type": "stream",
     "text": [
      "(75000, 27)\n"
     ]
    }
   ],
   "source": [
    "from sklearn.cross_validation import train_test_split\n",
    "\n",
    "train_X, test_X, train_y, test_y = train_test_split(features, target, test_size=.25)\n",
    "print(train_X.shape)\n"
   ]
  },
  {
   "cell_type": "code",
   "execution_count": 119,
   "metadata": {
    "collapsed": false
   },
   "outputs": [
    {
     "data": {
      "text/plain": [
       "'from sklearn.svm import SVC\\nsvc = SVC(C=0.1)\\nsvc.fit(train_X, train_y)\\nprint(svc.score(test_X, test_y))'"
      ]
     },
     "execution_count": 119,
     "metadata": {},
     "output_type": "execute_result"
    }
   ],
   "source": [
    "\"\"\"from sklearn.svm import SVC\n",
    "svc = SVC(C=0.1)\n",
    "svc.fit(train_X, train_y)\n",
    "print(svc.score(test_X, test_y))\"\"\""
   ]
  },
  {
   "cell_type": "code",
   "execution_count": 126,
   "metadata": {
    "collapsed": false
   },
   "outputs": [
    {
     "name": "stdout",
     "output_type": "stream",
     "text": [
      "0.0596\n"
     ]
    }
   ],
   "source": [
    "from sklearn.naive_bayes import GaussianNB\n",
    "clf = GaussianNB()\n",
    "clf.fit(train_X, train_y)\n",
    "print(clf.score(test_X, test_y))"
   ]
  },
  {
   "cell_type": "code",
   "execution_count": 125,
   "metadata": {
    "collapsed": false
   },
   "outputs": [
    {
     "name": "stdout",
     "output_type": "stream",
     "text": [
      "0.22376\n"
     ]
    }
   ],
   "source": [
    "from sklearn.ensemble import RandomForestClassifier\n",
    "rfc = RandomForestClassifier(max_depth=15)\n",
    "rfc.fit(train_X, train_y)\n",
    "print(rfc.score(test_X, test_y))"
   ]
  },
  {
   "cell_type": "code",
   "execution_count": null,
   "metadata": {
    "collapsed": true
   },
   "outputs": [],
   "source": []
  },
  {
   "cell_type": "code",
   "execution_count": null,
   "metadata": {
    "collapsed": true
   },
   "outputs": [],
   "source": []
  }
 ],
 "metadata": {
  "kernelspec": {
   "display_name": "Python 2",
   "language": "python",
   "name": "python2"
  },
  "language_info": {
   "codemirror_mode": {
    "name": "ipython",
    "version": 2
   },
   "file_extension": ".py",
   "mimetype": "text/x-python",
   "name": "python",
   "nbconvert_exporter": "python",
   "pygments_lexer": "ipython2",
   "version": "2.7.11"
  }
 },
 "nbformat": 4,
 "nbformat_minor": 0
}
